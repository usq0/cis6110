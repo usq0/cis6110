{
  "nbformat": 4,
  "nbformat_minor": 0,
  "metadata": {
    "colab": {
      "provenance": [],
      "authorship_tag": "ABX9TyNfnZvxi6ztK+wmjBIGSxx+",
      "include_colab_link": true
    },
    "kernelspec": {
      "name": "python3",
      "display_name": "Python 3"
    },
    "language_info": {
      "name": "python"
    }
  },
  "cells": [
    {
      "cell_type": "markdown",
      "metadata": {
        "id": "view-in-github",
        "colab_type": "text"
      },
      "source": [
        "<a href=\"https://colab.research.google.com/github/usq0/cis6110/blob/main/cis6110_m1.ipynb\" target=\"_parent\"><img src=\"https://colab.research.google.com/assets/colab-badge.svg\" alt=\"Open In Colab\"/></a>"
      ]
    },
    {
      "cell_type": "code",
      "source": [
        "from google.colab import drive\n",
        "drive.mount('/content/drive')\n",
        "\n",
        "!pip install mplfinance # provide candlestick chart plotting capability\n",
        "\n",
        "!apt-get install -y build-essential\n",
        "!wget http://prdownloads.sourceforge.net/ta-lib/ta-lib-0.4.0-src.tar.gz\n",
        "!tar -xzf ta-lib-0.4.0-src.tar.gz\n",
        "!cd ta-lib && ./configure --prefix=/usr && make && make install\n",
        "!pip install TA-Lib"
      ],
      "metadata": {
        "id": "0nuwXKJSOM4R"
      },
      "execution_count": null,
      "outputs": []
    }
  ]
}